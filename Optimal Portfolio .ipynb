{
 "cells": [
  {
   "cell_type": "code",
   "execution_count": null,
   "id": "30a45e69",
   "metadata": {},
   "outputs": [],
   "source": [
    "import pandas as pd\n",
    "import numpy as np \n",
    "import warnings\n",
    "warnings.warn('Ignore')\n"
   ]
  },
  {
   "cell_type": "markdown",
   "id": "3ed7f95d",
   "metadata": {},
   "source": [
    "# Optimal Portfolio\n",
    "### All the stock are taken from indepth research \n",
    "ref: https://docs.google.com/presentation/d/1Hs3L61SkSzB4xOocpkBXOHoS3-JsIkCgebnlvkOd7XQ/edit?usp=sharing \n"
   ]
  },
  {
   "cell_type": "code",
   "execution_count": 186,
   "id": "359d19a4",
   "metadata": {},
   "outputs": [],
   "source": [
    "import datetime\n",
    "# import request\n",
    "# !pip install pypfopt"
   ]
  },
  {
   "cell_type": "code",
   "execution_count": 158,
   "id": "a1c54a81",
   "metadata": {},
   "outputs": [],
   "source": [
    "# !pip install PyPortfolioOpt\n",
    "\n",
    "import yfinance as yf\n",
    "from pypfopt.efficient_frontier import EfficientFrontier\n",
    "from pypfopt import risk_models\n",
    "from pypfopt import expected_returns\n",
    "from pypfopt.discrete_allocation import DiscreteAllocation, get_latest_prices"
   ]
  },
  {
   "cell_type": "code",
   "execution_count": null,
   "id": "42fc4749",
   "metadata": {},
   "outputs": [],
   "source": []
  },
  {
   "cell_type": "code",
   "execution_count": null,
   "id": "6d7f6616",
   "metadata": {},
   "outputs": [],
   "source": []
  },
  {
   "cell_type": "code",
   "execution_count": null,
   "id": "fba21c51",
   "metadata": {},
   "outputs": [],
   "source": [
    "data1 = yf.download(ticker,'2016-1-31' , '2022-7-31')['Adj Close']"
   ]
  },
  {
   "cell_type": "code",
   "execution_count": 118,
   "id": "113cf816",
   "metadata": {},
   "outputs": [],
   "source": [
    "from pypfopt.efficient_frontier import EfficientFrontier\n"
   ]
  },
  {
   "cell_type": "code",
   "execution_count": 174,
   "id": "bbee17fe",
   "metadata": {},
   "outputs": [],
   "source": [
    "Value_ticker = ['CANBK.NS' , 'FEDERALBNK.NS' , 'INDIANB.NS' , 'ESCORTS.NS' , 'FDC.NS' , 'CAPPL.BO' , 'AARTIDRUGS.NS' , 'LT.BO', 'COALINDIA.NS' , 'NTPC.NS']\n",
    "\n",
    "Growth_ticker = ['TORNTPOWER.NS', 'GRAVITA.NS' , 'MAITHANALL.NS' , 'SUMICHEM.NS' , 'JPPOWER.NS' , 'CCL.NS' , 'TITANBIO.BO' , 'AMBALALSA.BO'  , 'ZODIAC.NS' , 'GEPIL.NS']\n",
    "\n",
    "Theme_ticker = ['VOLTAS.NS' , 'JUBLFOOD.NS' , 'TRENT.NS', 'ASIANPAINT.NS', 'MCDOWELL-N.NS', 'HAVELLS.NS', 'IRCTC.NS', 'AFFLE.NS', 'JUSTDIAL.NS' , 'BHARTIARTL.NS', 'TATACOMM.NS', 'NAUKRI.NS']"
   ]
  },
  {
   "cell_type": "code",
   "execution_count": 175,
   "id": "eee2f52a",
   "metadata": {},
   "outputs": [
    {
     "data": {
      "text/plain": [
       "['TORNTPOWER.NS',\n",
       " 'GRAVITA.NS',\n",
       " 'MAITHANALL.NS',\n",
       " 'SUMICHEM.NS',\n",
       " 'JPPOWER.NS',\n",
       " 'CCL.NS',\n",
       " 'TITANBIO.BO',\n",
       " 'AMBALALSA.BO',\n",
       " 'ZODIAC.NS',\n",
       " 'GEPIL.NS']"
      ]
     },
     "execution_count": 175,
     "metadata": {},
     "output_type": "execute_result"
    }
   ],
   "source": [
    "# Growth_ticker = ['TORNTPOWER.NS', 'GRAVITA.NS' , 'MAITHANALL.NS' ,'MANORG.NS' , 'SUMICHEM.NS' , 'JPPOWER.NS' , 'CCL.NS' , 'TITANBIO.BO' , 'AMBALALSA.BO' , 'ADVAIT.BO' , 'ZODIAC.NS' , 'GEPIL.NS']\n",
    "Growth_ticker"
   ]
  },
  {
   "cell_type": "code",
   "execution_count": 181,
   "id": "75f2eb4d",
   "metadata": {},
   "outputs": [],
   "source": [
    "def weight_Opt_port(ticker, amount_inv ):\n",
    "    data1 = yf.download(ticker,'201-1-1' , '2021-7-31')['Adj Close']\n",
    "    data1 = data1.reset_index()\n",
    "    data1 = data1.set_index(pd.DatetimeIndex(data1['Date'].values))\n",
    "    data1 = data1.drop(columns=['Date'])\n",
    "    \n",
    "    \n",
    "    mean = expected_returns.mean_historical_return(data1)\n",
    "    std = risk_models.sample_cov(data1)\n",
    "    \n",
    "    #optimize for the max sharpe ratio\n",
    "    ef = EfficientFrontier(mean, std)\n",
    "    weights = ef.max_sharpe()\n",
    "\n",
    "    cleaned_weights = ef.clean_weights()\n",
    "#     print(cleaned_weights)\n",
    "\n",
    "    ef.portfolio_performance(verbose = True)\n",
    "    latest_prices = get_latest_prices(data1)\n",
    "    weights = cleaned_weights\n",
    "    da = DiscreteAllocation(weights, latest_prices, total_portfolio_value=portfolio_val)\n",
    "    \n",
    "    allocation, leftover = da.lp_portfolio()\n",
    "    print('Discreate Allocation', allocation)\n",
    "    print('Funds Remaining:', leftover)"
   ]
  },
  {
   "cell_type": "code",
   "execution_count": 182,
   "id": "7247ebc8",
   "metadata": {},
   "outputs": [
    {
     "name": "stdout",
     "output_type": "stream",
     "text": [
      "[*********************100%***********************]  10 of 10 completed\n",
      "Expected annual return: 34.9%\n",
      "Annual volatility: 30.1%\n",
      "Sharpe Ratio: 1.09\n",
      "Discreate Allocation {'AARTIDRUGS.NS': 7, 'CAPPL.BO': 1, 'ESCORTS.NS': 3}\n",
      "Funds Remaining: 920.4845357429713\n"
     ]
    },
    {
     "name": "stderr",
     "output_type": "stream",
     "text": [
      "C:\\Anaconda\\lib\\site-packages\\cvxpy\\problems\\problem.py:1337: UserWarning: Solution may be inaccurate. Try another solver, adjusting the solver settings, or solve with verbose=True for more information.\n",
      "  warnings.warn(\n"
     ]
    }
   ],
   "source": [
    "weight_Opt_port(Value_ticker, 100000)"
   ]
  },
  {
   "cell_type": "code",
   "execution_count": 183,
   "id": "437f75e4",
   "metadata": {},
   "outputs": [],
   "source": [
    "# [*********************100%***********************]  10 of 10 completed\n",
    "# Expected annual return: 49.8%\n",
    "# Annual volatility: 33.3%\n",
    "# Sharpe Ratio: 1.44\n",
    "# Discreate Allocation {'CANBK.NS': 1, 'CAPPL.BO': 18, 'COALINDIA.NS': 2, 'FDC.NS': 4, 'FEDERALBNK.NS': 18, 'INDIANB.NS': 4, 'NTPC.NS': 5}\n",
    "# Funds Remaining: 800.803367313416"
   ]
  },
  {
   "cell_type": "code",
   "execution_count": 184,
   "id": "cd679512",
   "metadata": {},
   "outputs": [
    {
     "name": "stdout",
     "output_type": "stream",
     "text": [
      "[*********************100%***********************]  10 of 10 completed\n",
      "Expected annual return: 54.3%\n",
      "Annual volatility: 31.4%\n",
      "Sharpe Ratio: 1.67\n",
      "Discreate Allocation {'AMBALALSA.BO': 33, 'GRAVITA.NS': 8, 'SUMICHEM.NS': 10, 'TITANBIO.BO': 5, 'TORNTPOWER.NS': 2}\n",
      "Funds Remaining: 376.8506116231056\n"
     ]
    },
    {
     "name": "stderr",
     "output_type": "stream",
     "text": [
      "C:\\Anaconda\\lib\\site-packages\\cvxpy\\problems\\problem.py:1337: UserWarning: Solution may be inaccurate. Try another solver, adjusting the solver settings, or solve with verbose=True for more information.\n",
      "  warnings.warn(\n"
     ]
    }
   ],
   "source": [
    "weight_Opt_port(Growth_ticker, 10000000)\n",
    "\n",
    "# [*********************100%***********************]  10 of 10 completed\n",
    "# Expected annual return: 54.3%\n",
    "# Annual volatility: 32.9%\n",
    "# Sharpe Ratio: 1.59\n",
    "# Discreate Allocation {'CANBK.NS': 5, 'CAPPL.BO': 8, 'COALINDIA.NS': 4, 'ESCORTS.NS': 2, 'FDC.NS': 1, 'FEDERALBNK.NS': 18, 'INDIANB.NS': 16, 'NTPC.NS': 9}\n",
    "# Funds Remaining: 866.532722230284"
   ]
  },
  {
   "cell_type": "code",
   "execution_count": 185,
   "id": "d50285e4",
   "metadata": {},
   "outputs": [
    {
     "name": "stdout",
     "output_type": "stream",
     "text": [
      "[*********************100%***********************]  12 of 12 completed\n",
      "Expected annual return: 85.7%\n",
      "Annual volatility: 29.3%\n",
      "Sharpe Ratio: 2.86\n",
      "Discreate Allocation {'AFFLE.NS': 4, 'IRCTC.NS': 6, 'JUBLFOOD.NS': 3}\n",
      "Funds Remaining: 1608.1305911711315\n"
     ]
    },
    {
     "name": "stderr",
     "output_type": "stream",
     "text": [
      "C:\\Anaconda\\lib\\site-packages\\cvxpy\\problems\\problem.py:1337: UserWarning: Solution may be inaccurate. Try another solver, adjusting the solver settings, or solve with verbose=True for more information.\n",
      "  warnings.warn(\n"
     ]
    }
   ],
   "source": [
    "weight_Opt_port(Theme_ticker, 100000)\n",
    "\n",
    "# [*********************100%***********************]  10 of 10 completed\n",
    "# Expected annual return: 54.3%\n",
    "# Annual volatility: 32.9%\n",
    "# Sharpe Ratio: 1.59\n",
    "# Discreate Allocation {'CANBK.NS': 5, 'CAPPL.BO': 8, 'COALINDIA.NS': 4, 'ESCORTS.NS': 2, 'FDC.NS': 1, 'FEDERALBNK.NS': 18, 'INDIANB.NS': 16, 'NTPC.NS': 9}\n",
    "# Funds Remaining: 866.5325849011824"
   ]
  },
  {
   "cell_type": "code",
   "execution_count": 169,
   "id": "478d59a4",
   "metadata": {},
   "outputs": [
    {
     "name": "stdout",
     "output_type": "stream",
     "text": [
      "[*********************100%***********************]  1 of 1 completed\n",
      "Expected annual return: 14.7%\n",
      "Annual volatility: 18.1%\n",
      "Sharpe Ratio: 0.70\n",
      "Discreate Allocation {}\n",
      "Funds Remaining: 9999.99994384448\n"
     ]
    },
    {
     "name": "stderr",
     "output_type": "stream",
     "text": [
      "C:\\Anaconda\\lib\\site-packages\\cvxpy\\problems\\problem.py:1337: UserWarning: Solution may be inaccurate. Try another solver, adjusting the solver settings, or solve with verbose=True for more information.\n",
      "  warnings.warn(\n"
     ]
    }
   ],
   "source": [
    "weight_Opt_port('^NSEI', 100000 )\n"
   ]
  },
  {
   "cell_type": "code",
   "execution_count": null,
   "id": "cbbee90f",
   "metadata": {},
   "outputs": [],
   "source": []
  },
  {
   "cell_type": "markdown",
   "id": "57212225",
   "metadata": {},
   "source": [
    "### For Value investing "
   ]
  },
  {
   "cell_type": "code",
   "execution_count": 95,
   "id": "d30436ac",
   "metadata": {},
   "outputs": [
    {
     "name": "stdout",
     "output_type": "stream",
     "text": [
      "[*********************100%***********************]  10 of 10 completed\n",
      "            AARTIDRUGS.NS   CANBK.NS    CAPPL.BO  COALINDIA.NS  ESCORTS.NS  \\\n",
      "Date                                                                         \n",
      "2020-05-04     177.751709  78.716255  332.064758    114.120056  676.633606   \n",
      "2020-05-05     175.899887  77.169014  327.104797    110.671600  686.047119   \n",
      "2020-05-06     179.031845  78.474503  324.327301    107.263237  709.085449   \n",
      "2020-05-07     189.136185  78.667900  324.327301    104.897430  743.321045   \n",
      "2020-05-08     187.508041  77.217354  320.359375    103.453888  733.610168   \n",
      "\n",
      "                FDC.NS  FEDERALBNK.NS  INDIANB.NS       LT.BO    NTPC.NS  \n",
      "Date                                                                      \n",
      "2020-05-04  244.949997      42.932362   44.488171  807.760559  75.515366  \n",
      "2020-05-05  239.750000      41.860271   44.015396  794.847717  76.464989  \n",
      "2020-05-06  245.300003      42.688705   44.109951  795.322571  78.199066  \n",
      "2020-05-07  252.399994      42.055199   44.393616  781.127930  74.689598  \n",
      "2020-05-08  252.600006      41.567886   43.968121  774.813904  71.840744  \n"
     ]
    }
   ],
   "source": [
    "# tickers_list = ['AAPL', 'WMT', 'IBM', 'MU', 'BA', 'AXP']\n",
    "\n",
    "# Fetch the data\n",
    "import yfinance as yf\n",
    "data1 = yf.download(Value_ticker,'2020-5-1' , '2022-7-31')['Adj Close']\n",
    "\n",
    "# Print first 5 rows of the data\n",
    "print(data1.head())"
   ]
  },
  {
   "cell_type": "code",
   "execution_count": 96,
   "id": "9c9373fb",
   "metadata": {},
   "outputs": [
    {
     "data": {
      "text/html": [
       "<div>\n",
       "<style scoped>\n",
       "    .dataframe tbody tr th:only-of-type {\n",
       "        vertical-align: middle;\n",
       "    }\n",
       "\n",
       "    .dataframe tbody tr th {\n",
       "        vertical-align: top;\n",
       "    }\n",
       "\n",
       "    .dataframe thead th {\n",
       "        text-align: right;\n",
       "    }\n",
       "</style>\n",
       "<table border=\"1\" class=\"dataframe\">\n",
       "  <thead>\n",
       "    <tr style=\"text-align: right;\">\n",
       "      <th></th>\n",
       "      <th>AARTIDRUGS.NS</th>\n",
       "      <th>CANBK.NS</th>\n",
       "      <th>CAPPL.BO</th>\n",
       "      <th>COALINDIA.NS</th>\n",
       "      <th>ESCORTS.NS</th>\n",
       "      <th>FDC.NS</th>\n",
       "      <th>FEDERALBNK.NS</th>\n",
       "      <th>INDIANB.NS</th>\n",
       "      <th>LT.BO</th>\n",
       "      <th>NTPC.NS</th>\n",
       "    </tr>\n",
       "    <tr>\n",
       "      <th>Date</th>\n",
       "      <th></th>\n",
       "      <th></th>\n",
       "      <th></th>\n",
       "      <th></th>\n",
       "      <th></th>\n",
       "      <th></th>\n",
       "      <th></th>\n",
       "      <th></th>\n",
       "      <th></th>\n",
       "      <th></th>\n",
       "    </tr>\n",
       "  </thead>\n",
       "  <tbody>\n",
       "    <tr>\n",
       "      <th>2022-07-25</th>\n",
       "      <td>433.250000</td>\n",
       "      <td>224.800003</td>\n",
       "      <td>804.400024</td>\n",
       "      <td>198.158585</td>\n",
       "      <td>1692.400024</td>\n",
       "      <td>252.399994</td>\n",
       "      <td>107.349998</td>\n",
       "      <td>175.850006</td>\n",
       "      <td>1781.900024</td>\n",
       "      <td>147.275040</td>\n",
       "    </tr>\n",
       "    <tr>\n",
       "      <th>2022-07-26</th>\n",
       "      <td>424.799988</td>\n",
       "      <td>221.600006</td>\n",
       "      <td>777.049988</td>\n",
       "      <td>199.539490</td>\n",
       "      <td>1694.449951</td>\n",
       "      <td>253.199997</td>\n",
       "      <td>105.699997</td>\n",
       "      <td>172.550003</td>\n",
       "      <td>1750.449951</td>\n",
       "      <td>147.176910</td>\n",
       "    </tr>\n",
       "    <tr>\n",
       "      <th>2022-07-27</th>\n",
       "      <td>419.299988</td>\n",
       "      <td>227.050003</td>\n",
       "      <td>756.650024</td>\n",
       "      <td>200.673782</td>\n",
       "      <td>1699.300049</td>\n",
       "      <td>252.300003</td>\n",
       "      <td>107.449997</td>\n",
       "      <td>175.800003</td>\n",
       "      <td>1797.199951</td>\n",
       "      <td>146.882553</td>\n",
       "    </tr>\n",
       "    <tr>\n",
       "      <th>2022-07-28</th>\n",
       "      <td>405.700012</td>\n",
       "      <td>226.199997</td>\n",
       "      <td>759.750000</td>\n",
       "      <td>200.081985</td>\n",
       "      <td>1722.199951</td>\n",
       "      <td>251.399994</td>\n",
       "      <td>107.300003</td>\n",
       "      <td>177.750000</td>\n",
       "      <td>1801.250000</td>\n",
       "      <td>147.520325</td>\n",
       "    </tr>\n",
       "    <tr>\n",
       "      <th>2022-07-29</th>\n",
       "      <td>418.899994</td>\n",
       "      <td>222.300003</td>\n",
       "      <td>776.900024</td>\n",
       "      <td>208.367355</td>\n",
       "      <td>1733.000000</td>\n",
       "      <td>253.500000</td>\n",
       "      <td>106.650002</td>\n",
       "      <td>176.500000</td>\n",
       "      <td>1807.650024</td>\n",
       "      <td>150.071396</td>\n",
       "    </tr>\n",
       "  </tbody>\n",
       "</table>\n",
       "</div>"
      ],
      "text/plain": [
       "            AARTIDRUGS.NS    CANBK.NS    CAPPL.BO  COALINDIA.NS   ESCORTS.NS  \\\n",
       "Date                                                                           \n",
       "2022-07-25     433.250000  224.800003  804.400024    198.158585  1692.400024   \n",
       "2022-07-26     424.799988  221.600006  777.049988    199.539490  1694.449951   \n",
       "2022-07-27     419.299988  227.050003  756.650024    200.673782  1699.300049   \n",
       "2022-07-28     405.700012  226.199997  759.750000    200.081985  1722.199951   \n",
       "2022-07-29     418.899994  222.300003  776.900024    208.367355  1733.000000   \n",
       "\n",
       "                FDC.NS  FEDERALBNK.NS  INDIANB.NS        LT.BO     NTPC.NS  \n",
       "Date                                                                        \n",
       "2022-07-25  252.399994     107.349998  175.850006  1781.900024  147.275040  \n",
       "2022-07-26  253.199997     105.699997  172.550003  1750.449951  147.176910  \n",
       "2022-07-27  252.300003     107.449997  175.800003  1797.199951  146.882553  \n",
       "2022-07-28  251.399994     107.300003  177.750000  1801.250000  147.520325  \n",
       "2022-07-29  253.500000     106.650002  176.500000  1807.650024  150.071396  "
      ]
     },
     "execution_count": 96,
     "metadata": {},
     "output_type": "execute_result"
    }
   ],
   "source": [
    "data1.tail()"
   ]
  },
  {
   "cell_type": "code",
   "execution_count": 97,
   "id": "f9d03cb7",
   "metadata": {},
   "outputs": [],
   "source": [
    "data1 = data1.reset_index()"
   ]
  },
  {
   "cell_type": "code",
   "execution_count": 98,
   "id": "80e5de2c",
   "metadata": {},
   "outputs": [
    {
     "data": {
      "text/html": [
       "<div>\n",
       "<style scoped>\n",
       "    .dataframe tbody tr th:only-of-type {\n",
       "        vertical-align: middle;\n",
       "    }\n",
       "\n",
       "    .dataframe tbody tr th {\n",
       "        vertical-align: top;\n",
       "    }\n",
       "\n",
       "    .dataframe thead th {\n",
       "        text-align: right;\n",
       "    }\n",
       "</style>\n",
       "<table border=\"1\" class=\"dataframe\">\n",
       "  <thead>\n",
       "    <tr style=\"text-align: right;\">\n",
       "      <th></th>\n",
       "      <th>Date</th>\n",
       "      <th>AARTIDRUGS.NS</th>\n",
       "      <th>CANBK.NS</th>\n",
       "      <th>CAPPL.BO</th>\n",
       "      <th>COALINDIA.NS</th>\n",
       "      <th>ESCORTS.NS</th>\n",
       "      <th>FDC.NS</th>\n",
       "      <th>FEDERALBNK.NS</th>\n",
       "      <th>INDIANB.NS</th>\n",
       "      <th>LT.BO</th>\n",
       "      <th>NTPC.NS</th>\n",
       "    </tr>\n",
       "  </thead>\n",
       "  <tbody>\n",
       "    <tr>\n",
       "      <th>0</th>\n",
       "      <td>2020-05-04</td>\n",
       "      <td>177.751709</td>\n",
       "      <td>78.716255</td>\n",
       "      <td>332.064758</td>\n",
       "      <td>114.120056</td>\n",
       "      <td>676.633606</td>\n",
       "      <td>244.949997</td>\n",
       "      <td>42.932362</td>\n",
       "      <td>44.488171</td>\n",
       "      <td>807.760559</td>\n",
       "      <td>75.515366</td>\n",
       "    </tr>\n",
       "    <tr>\n",
       "      <th>1</th>\n",
       "      <td>2020-05-05</td>\n",
       "      <td>175.899887</td>\n",
       "      <td>77.169014</td>\n",
       "      <td>327.104797</td>\n",
       "      <td>110.671600</td>\n",
       "      <td>686.047119</td>\n",
       "      <td>239.750000</td>\n",
       "      <td>41.860271</td>\n",
       "      <td>44.015396</td>\n",
       "      <td>794.847717</td>\n",
       "      <td>76.464989</td>\n",
       "    </tr>\n",
       "    <tr>\n",
       "      <th>2</th>\n",
       "      <td>2020-05-06</td>\n",
       "      <td>179.031845</td>\n",
       "      <td>78.474503</td>\n",
       "      <td>324.327301</td>\n",
       "      <td>107.263237</td>\n",
       "      <td>709.085449</td>\n",
       "      <td>245.300003</td>\n",
       "      <td>42.688705</td>\n",
       "      <td>44.109951</td>\n",
       "      <td>795.322571</td>\n",
       "      <td>78.199066</td>\n",
       "    </tr>\n",
       "    <tr>\n",
       "      <th>3</th>\n",
       "      <td>2020-05-07</td>\n",
       "      <td>189.136185</td>\n",
       "      <td>78.667900</td>\n",
       "      <td>324.327301</td>\n",
       "      <td>104.897430</td>\n",
       "      <td>743.321045</td>\n",
       "      <td>252.399994</td>\n",
       "      <td>42.055199</td>\n",
       "      <td>44.393616</td>\n",
       "      <td>781.127930</td>\n",
       "      <td>74.689598</td>\n",
       "    </tr>\n",
       "    <tr>\n",
       "      <th>4</th>\n",
       "      <td>2020-05-08</td>\n",
       "      <td>187.508041</td>\n",
       "      <td>77.217354</td>\n",
       "      <td>320.359375</td>\n",
       "      <td>103.453888</td>\n",
       "      <td>733.610168</td>\n",
       "      <td>252.600006</td>\n",
       "      <td>41.567886</td>\n",
       "      <td>43.968121</td>\n",
       "      <td>774.813904</td>\n",
       "      <td>71.840744</td>\n",
       "    </tr>\n",
       "  </tbody>\n",
       "</table>\n",
       "</div>"
      ],
      "text/plain": [
       "        Date  AARTIDRUGS.NS   CANBK.NS    CAPPL.BO  COALINDIA.NS  ESCORTS.NS  \\\n",
       "0 2020-05-04     177.751709  78.716255  332.064758    114.120056  676.633606   \n",
       "1 2020-05-05     175.899887  77.169014  327.104797    110.671600  686.047119   \n",
       "2 2020-05-06     179.031845  78.474503  324.327301    107.263237  709.085449   \n",
       "3 2020-05-07     189.136185  78.667900  324.327301    104.897430  743.321045   \n",
       "4 2020-05-08     187.508041  77.217354  320.359375    103.453888  733.610168   \n",
       "\n",
       "       FDC.NS  FEDERALBNK.NS  INDIANB.NS       LT.BO    NTPC.NS  \n",
       "0  244.949997      42.932362   44.488171  807.760559  75.515366  \n",
       "1  239.750000      41.860271   44.015396  794.847717  76.464989  \n",
       "2  245.300003      42.688705   44.109951  795.322571  78.199066  \n",
       "3  252.399994      42.055199   44.393616  781.127930  74.689598  \n",
       "4  252.600006      41.567886   43.968121  774.813904  71.840744  "
      ]
     },
     "execution_count": 98,
     "metadata": {},
     "output_type": "execute_result"
    }
   ],
   "source": [
    "data1.head()"
   ]
  },
  {
   "cell_type": "code",
   "execution_count": 99,
   "id": "b8a1bf53",
   "metadata": {},
   "outputs": [],
   "source": [
    "data1 = data1.set_index(pd.DatetimeIndex(data1['Date'].values))"
   ]
  },
  {
   "cell_type": "code",
   "execution_count": 100,
   "id": "2c805aa8",
   "metadata": {},
   "outputs": [
    {
     "data": {
      "text/html": [
       "<div>\n",
       "<style scoped>\n",
       "    .dataframe tbody tr th:only-of-type {\n",
       "        vertical-align: middle;\n",
       "    }\n",
       "\n",
       "    .dataframe tbody tr th {\n",
       "        vertical-align: top;\n",
       "    }\n",
       "\n",
       "    .dataframe thead th {\n",
       "        text-align: right;\n",
       "    }\n",
       "</style>\n",
       "<table border=\"1\" class=\"dataframe\">\n",
       "  <thead>\n",
       "    <tr style=\"text-align: right;\">\n",
       "      <th></th>\n",
       "      <th>Date</th>\n",
       "      <th>AARTIDRUGS.NS</th>\n",
       "      <th>CANBK.NS</th>\n",
       "      <th>CAPPL.BO</th>\n",
       "      <th>COALINDIA.NS</th>\n",
       "      <th>ESCORTS.NS</th>\n",
       "      <th>FDC.NS</th>\n",
       "      <th>FEDERALBNK.NS</th>\n",
       "      <th>INDIANB.NS</th>\n",
       "      <th>LT.BO</th>\n",
       "      <th>NTPC.NS</th>\n",
       "    </tr>\n",
       "  </thead>\n",
       "  <tbody>\n",
       "    <tr>\n",
       "      <th>2020-05-04</th>\n",
       "      <td>2020-05-04</td>\n",
       "      <td>177.751709</td>\n",
       "      <td>78.716255</td>\n",
       "      <td>332.064758</td>\n",
       "      <td>114.120056</td>\n",
       "      <td>676.633606</td>\n",
       "      <td>244.949997</td>\n",
       "      <td>42.932362</td>\n",
       "      <td>44.488171</td>\n",
       "      <td>807.760559</td>\n",
       "      <td>75.515366</td>\n",
       "    </tr>\n",
       "    <tr>\n",
       "      <th>2020-05-05</th>\n",
       "      <td>2020-05-05</td>\n",
       "      <td>175.899887</td>\n",
       "      <td>77.169014</td>\n",
       "      <td>327.104797</td>\n",
       "      <td>110.671600</td>\n",
       "      <td>686.047119</td>\n",
       "      <td>239.750000</td>\n",
       "      <td>41.860271</td>\n",
       "      <td>44.015396</td>\n",
       "      <td>794.847717</td>\n",
       "      <td>76.464989</td>\n",
       "    </tr>\n",
       "    <tr>\n",
       "      <th>2020-05-06</th>\n",
       "      <td>2020-05-06</td>\n",
       "      <td>179.031845</td>\n",
       "      <td>78.474503</td>\n",
       "      <td>324.327301</td>\n",
       "      <td>107.263237</td>\n",
       "      <td>709.085449</td>\n",
       "      <td>245.300003</td>\n",
       "      <td>42.688705</td>\n",
       "      <td>44.109951</td>\n",
       "      <td>795.322571</td>\n",
       "      <td>78.199066</td>\n",
       "    </tr>\n",
       "    <tr>\n",
       "      <th>2020-05-07</th>\n",
       "      <td>2020-05-07</td>\n",
       "      <td>189.136185</td>\n",
       "      <td>78.667900</td>\n",
       "      <td>324.327301</td>\n",
       "      <td>104.897430</td>\n",
       "      <td>743.321045</td>\n",
       "      <td>252.399994</td>\n",
       "      <td>42.055199</td>\n",
       "      <td>44.393616</td>\n",
       "      <td>781.127930</td>\n",
       "      <td>74.689598</td>\n",
       "    </tr>\n",
       "    <tr>\n",
       "      <th>2020-05-08</th>\n",
       "      <td>2020-05-08</td>\n",
       "      <td>187.508041</td>\n",
       "      <td>77.217354</td>\n",
       "      <td>320.359375</td>\n",
       "      <td>103.453888</td>\n",
       "      <td>733.610168</td>\n",
       "      <td>252.600006</td>\n",
       "      <td>41.567886</td>\n",
       "      <td>43.968121</td>\n",
       "      <td>774.813904</td>\n",
       "      <td>71.840744</td>\n",
       "    </tr>\n",
       "  </tbody>\n",
       "</table>\n",
       "</div>"
      ],
      "text/plain": [
       "                 Date  AARTIDRUGS.NS   CANBK.NS    CAPPL.BO  COALINDIA.NS  \\\n",
       "2020-05-04 2020-05-04     177.751709  78.716255  332.064758    114.120056   \n",
       "2020-05-05 2020-05-05     175.899887  77.169014  327.104797    110.671600   \n",
       "2020-05-06 2020-05-06     179.031845  78.474503  324.327301    107.263237   \n",
       "2020-05-07 2020-05-07     189.136185  78.667900  324.327301    104.897430   \n",
       "2020-05-08 2020-05-08     187.508041  77.217354  320.359375    103.453888   \n",
       "\n",
       "            ESCORTS.NS      FDC.NS  FEDERALBNK.NS  INDIANB.NS       LT.BO  \\\n",
       "2020-05-04  676.633606  244.949997      42.932362   44.488171  807.760559   \n",
       "2020-05-05  686.047119  239.750000      41.860271   44.015396  794.847717   \n",
       "2020-05-06  709.085449  245.300003      42.688705   44.109951  795.322571   \n",
       "2020-05-07  743.321045  252.399994      42.055199   44.393616  781.127930   \n",
       "2020-05-08  733.610168  252.600006      41.567886   43.968121  774.813904   \n",
       "\n",
       "              NTPC.NS  \n",
       "2020-05-04  75.515366  \n",
       "2020-05-05  76.464989  \n",
       "2020-05-06  78.199066  \n",
       "2020-05-07  74.689598  \n",
       "2020-05-08  71.840744  "
      ]
     },
     "execution_count": 100,
     "metadata": {},
     "output_type": "execute_result"
    }
   ],
   "source": [
    "data1.head()"
   ]
  },
  {
   "cell_type": "code",
   "execution_count": 101,
   "id": "d5decf8d",
   "metadata": {},
   "outputs": [],
   "source": [
    "data1 = data1.drop(columns=['Date'])"
   ]
  },
  {
   "cell_type": "code",
   "execution_count": null,
   "id": "c9793838",
   "metadata": {},
   "outputs": [],
   "source": []
  },
  {
   "cell_type": "code",
   "execution_count": 102,
   "id": "7d479e1a",
   "metadata": {},
   "outputs": [
    {
     "data": {
      "text/html": [
       "<div>\n",
       "<style scoped>\n",
       "    .dataframe tbody tr th:only-of-type {\n",
       "        vertical-align: middle;\n",
       "    }\n",
       "\n",
       "    .dataframe tbody tr th {\n",
       "        vertical-align: top;\n",
       "    }\n",
       "\n",
       "    .dataframe thead th {\n",
       "        text-align: right;\n",
       "    }\n",
       "</style>\n",
       "<table border=\"1\" class=\"dataframe\">\n",
       "  <thead>\n",
       "    <tr style=\"text-align: right;\">\n",
       "      <th></th>\n",
       "      <th>AARTIDRUGS.NS</th>\n",
       "      <th>CANBK.NS</th>\n",
       "      <th>CAPPL.BO</th>\n",
       "      <th>COALINDIA.NS</th>\n",
       "      <th>ESCORTS.NS</th>\n",
       "      <th>FDC.NS</th>\n",
       "      <th>FEDERALBNK.NS</th>\n",
       "      <th>INDIANB.NS</th>\n",
       "      <th>LT.BO</th>\n",
       "      <th>NTPC.NS</th>\n",
       "    </tr>\n",
       "  </thead>\n",
       "  <tbody>\n",
       "    <tr>\n",
       "      <th>2020-05-04</th>\n",
       "      <td>177.751709</td>\n",
       "      <td>78.716255</td>\n",
       "      <td>332.064758</td>\n",
       "      <td>114.120056</td>\n",
       "      <td>676.633606</td>\n",
       "      <td>244.949997</td>\n",
       "      <td>42.932362</td>\n",
       "      <td>44.488171</td>\n",
       "      <td>807.760559</td>\n",
       "      <td>75.515366</td>\n",
       "    </tr>\n",
       "    <tr>\n",
       "      <th>2020-05-05</th>\n",
       "      <td>175.899887</td>\n",
       "      <td>77.169014</td>\n",
       "      <td>327.104797</td>\n",
       "      <td>110.671600</td>\n",
       "      <td>686.047119</td>\n",
       "      <td>239.750000</td>\n",
       "      <td>41.860271</td>\n",
       "      <td>44.015396</td>\n",
       "      <td>794.847717</td>\n",
       "      <td>76.464989</td>\n",
       "    </tr>\n",
       "    <tr>\n",
       "      <th>2020-05-06</th>\n",
       "      <td>179.031845</td>\n",
       "      <td>78.474503</td>\n",
       "      <td>324.327301</td>\n",
       "      <td>107.263237</td>\n",
       "      <td>709.085449</td>\n",
       "      <td>245.300003</td>\n",
       "      <td>42.688705</td>\n",
       "      <td>44.109951</td>\n",
       "      <td>795.322571</td>\n",
       "      <td>78.199066</td>\n",
       "    </tr>\n",
       "    <tr>\n",
       "      <th>2020-05-07</th>\n",
       "      <td>189.136185</td>\n",
       "      <td>78.667900</td>\n",
       "      <td>324.327301</td>\n",
       "      <td>104.897430</td>\n",
       "      <td>743.321045</td>\n",
       "      <td>252.399994</td>\n",
       "      <td>42.055199</td>\n",
       "      <td>44.393616</td>\n",
       "      <td>781.127930</td>\n",
       "      <td>74.689598</td>\n",
       "    </tr>\n",
       "    <tr>\n",
       "      <th>2020-05-08</th>\n",
       "      <td>187.508041</td>\n",
       "      <td>77.217354</td>\n",
       "      <td>320.359375</td>\n",
       "      <td>103.453888</td>\n",
       "      <td>733.610168</td>\n",
       "      <td>252.600006</td>\n",
       "      <td>41.567886</td>\n",
       "      <td>43.968121</td>\n",
       "      <td>774.813904</td>\n",
       "      <td>71.840744</td>\n",
       "    </tr>\n",
       "  </tbody>\n",
       "</table>\n",
       "</div>"
      ],
      "text/plain": [
       "            AARTIDRUGS.NS   CANBK.NS    CAPPL.BO  COALINDIA.NS  ESCORTS.NS  \\\n",
       "2020-05-04     177.751709  78.716255  332.064758    114.120056  676.633606   \n",
       "2020-05-05     175.899887  77.169014  327.104797    110.671600  686.047119   \n",
       "2020-05-06     179.031845  78.474503  324.327301    107.263237  709.085449   \n",
       "2020-05-07     189.136185  78.667900  324.327301    104.897430  743.321045   \n",
       "2020-05-08     187.508041  77.217354  320.359375    103.453888  733.610168   \n",
       "\n",
       "                FDC.NS  FEDERALBNK.NS  INDIANB.NS       LT.BO    NTPC.NS  \n",
       "2020-05-04  244.949997      42.932362   44.488171  807.760559  75.515366  \n",
       "2020-05-05  239.750000      41.860271   44.015396  794.847717  76.464989  \n",
       "2020-05-06  245.300003      42.688705   44.109951  795.322571  78.199066  \n",
       "2020-05-07  252.399994      42.055199   44.393616  781.127930  74.689598  \n",
       "2020-05-08  252.600006      41.567886   43.968121  774.813904  71.840744  "
      ]
     },
     "execution_count": 102,
     "metadata": {},
     "output_type": "execute_result"
    }
   ],
   "source": [
    "data1.head()"
   ]
  },
  {
   "cell_type": "code",
   "execution_count": 103,
   "id": "ba8a770a",
   "metadata": {},
   "outputs": [],
   "source": [
    "#To optimize the portfolio"
   ]
  },
  {
   "cell_type": "code",
   "execution_count": 104,
   "id": "4b5a9934",
   "metadata": {},
   "outputs": [],
   "source": [
    "from pypfopt.efficient_frontier import EfficientFrontier\n",
    "from pypfopt import risk_models\n",
    "from pypfopt import expected_returns"
   ]
  },
  {
   "cell_type": "code",
   "execution_count": 105,
   "id": "73dc29d1",
   "metadata": {},
   "outputs": [],
   "source": [
    "#calculate the expected annualized returns and sample covariance matrix of the daily asset \n",
    "\n",
    "mean = expected_returns.mean_historical_return(data1)\n",
    "std = risk_models.sample_cov(data1)\n",
    "\n"
   ]
  },
  {
   "cell_type": "code",
   "execution_count": 106,
   "id": "053e4abd",
   "metadata": {},
   "outputs": [
    {
     "name": "stdout",
     "output_type": "stream",
     "text": [
      "OrderedDict([('AARTIDRUGS.NS', 0.06646), ('CANBK.NS', 0.0), ('CAPPL.BO', 0.10199), ('COALINDIA.NS', 0.0), ('ESCORTS.NS', 0.29469), ('FDC.NS', 0.0), ('FEDERALBNK.NS', 0.0), ('INDIANB.NS', 0.22731), ('LT.BO', 0.24877), ('NTPC.NS', 0.06078)])\n",
      "Expected annual return: 55.9%\n",
      "Annual volatility: 23.5%\n",
      "Sharpe Ratio: 2.29\n"
     ]
    },
    {
     "data": {
      "text/plain": [
       "(0.5588145510199919, 0.2349985157066874, 2.292842358598177)"
      ]
     },
     "execution_count": 106,
     "metadata": {},
     "output_type": "execute_result"
    }
   ],
   "source": [
    "#optimize for the max sharpe ratio\n",
    "ef = EfficientFrontier(mean, std)\n",
    "weights = ef.max_sharpe()\n",
    "\n",
    "cleaned_weights = ef.clean_weights()\n",
    "print(cleaned_weights)\n",
    "\n",
    "ef.portfolio_performance(verbose = True)"
   ]
  },
  {
   "cell_type": "code",
   "execution_count": 65,
   "id": "cb85f5e3",
   "metadata": {},
   "outputs": [
    {
     "name": "stdout",
     "output_type": "stream",
     "text": [
      "Requirement already satisfied: pulp in c:\\anaconda\\lib\\site-packages (2.6.0)\n"
     ]
    }
   ],
   "source": [
    "!pip install pulp"
   ]
  },
  {
   "cell_type": "code",
   "execution_count": 69,
   "id": "03fbad77",
   "metadata": {},
   "outputs": [],
   "source": [
    "from pypfopt.discrete_allocation import DiscreteAllocation, get_latest_prices\n",
    "\n",
    "portfolio_val = 10000\n",
    "latest_prices = get_latest_prices(data1)\n",
    "weights = cleaned_weights\n",
    "da = DiscreteAllocation(weights, latest_prices, total_portfolio_value=portfolio_val)"
   ]
  },
  {
   "cell_type": "code",
   "execution_count": 70,
   "id": "7f34c386",
   "metadata": {},
   "outputs": [
    {
     "name": "stdout",
     "output_type": "stream",
     "text": [
      "Discreate Allocation {'CANBK.NS': 1, 'CAPPL.BO': 1, 'COALINDIA.NS': 2, 'ESCORTS.NS': 4, 'FDC.NS': 1, 'FEDERALBNK.NS': 3, 'INDIANB.NS': 2, 'NTPC.NS': 2}\n",
      "Funds Remaining: 20.193449149717708\n"
     ]
    }
   ],
   "source": [
    "allocation, leftover = da.lp_portfolio()\n",
    "print('Discreate Allocation', allocation)\n",
    "print('Funds Remaining:', leftover)"
   ]
  },
  {
   "cell_type": "code",
   "execution_count": null,
   "id": "fbd447e4",
   "metadata": {},
   "outputs": [],
   "source": []
  }
 ],
 "metadata": {
  "kernelspec": {
   "display_name": "Python 3 (ipykernel)",
   "language": "python",
   "name": "python3"
  },
  "language_info": {
   "codemirror_mode": {
    "name": "ipython",
    "version": 3
   },
   "file_extension": ".py",
   "mimetype": "text/x-python",
   "name": "python",
   "nbconvert_exporter": "python",
   "pygments_lexer": "ipython3",
   "version": "3.9.12"
  }
 },
 "nbformat": 4,
 "nbformat_minor": 5
}
